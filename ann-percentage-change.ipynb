{
 "cells": [
  {
   "cell_type": "code",
   "execution_count": null,
   "id": "14774e11-bbbc-4ef9-90d2-735bc68f10ac",
   "metadata": {
    "scrolled": true
   },
   "outputs": [],
   "source": [
    "pip install pandas numpy scikit-learn matplotlib yfinance tensorflow scikeras"
   ]
  },
  {
   "cell_type": "code",
   "execution_count": null,
   "id": "8882ecca-13c5-4efa-8651-91d2214bfb1e",
   "metadata": {},
   "outputs": [],
   "source": [
    "import pandas as pd\n",
    "import numpy as np\n",
    "import matplotlib.pyplot as plt\n",
    "import yfinance as yf\n",
    "from sklearn.svm import SVR\n",
    "from sklearn.model_selection import train_test_split, GridSearchCV\n",
    "from sklearn.metrics import mean_absolute_error, mean_squared_error\n",
    "from sklearn.preprocessing import StandardScaler\n",
    "from tensorflow.keras.models import Sequential\n",
    "from tensorflow.keras.layers import Dense, Input\n",
    "from scikeras.wrappers import KerasRegressor"
   ]
  },
  {
   "cell_type": "code",
   "execution_count": null,
   "id": "828abf7d-90ae-408d-abb9-f57146d3b539",
   "metadata": {
    "editable": true,
    "slideshow": {
     "slide_type": ""
    },
    "tags": []
   },
   "outputs": [],
   "source": [
    "# Download Apple stock data\n",
    "data = yf.download(\"AAPL\", start=\"2015-01-01\", end=\"2023-01-01\")\n",
    "\n",
    "# Calculate moving averages and relative price change\n",
    "data['SMA_10'] = data['Close'].rolling(window=10).mean()\n",
    "data['SMA_50'] = data['Close'].rolling(window=50).mean()\n",
    "\n",
    "# set target as percentage difference from future days\n",
    "PREDICTED_DAYS = 1\n",
    "for i in range(1, PREDICTED_DAYS + 1):\n",
    "    data[f'target_{i}'] = -data['Close'].shift(-1)\n",
    "\n",
    "# Drop rows with missing values\n",
    "data.dropna(inplace=True)\n",
    "\n",
    "#print(data)"
   ]
  },
  {
   "cell_type": "code",
   "execution_count": null,
   "id": "6e81d38c-90be-4876-803c-d61f54599e82",
   "metadata": {
    "editable": true,
    "slideshow": {
     "slide_type": ""
    },
    "tags": []
   },
   "outputs": [],
   "source": [
    "#scale data\n",
    "scaler_X = StandardScaler()\n",
    "scaler_y = StandardScaler()\n",
    "\n",
    "X = data[['SMA_10', 'SMA_50', 'High', 'Close', 'Open', 'Low']]\n",
    "X_scaled = scaler_X.fit_transform(X)\n",
    "\n",
    "y = data[[f'target_{i}' for i in range(1, PREDICTED_DAYS + 1)]]\n",
    "y_scaled = scaler_y.fit_transform(y)\n",
    "\n",
    "\n",
    "# Split data into training and testing sets\n",
    "X_train, X_test, y_train, y_test = train_test_split(X_scaled, y_scaled, test_size=0.2, random_state=42)\n",
    "# print(f\"Training samples: {len(X_train)}, Testing samples: {len(X_test)}\")"
   ]
  },
  {
   "cell_type": "code",
   "execution_count": null,
   "id": "c5377aef-56d5-4773-a5f1-a833421cf2dd",
   "metadata": {},
   "outputs": [],
   "source": [
    "#repeatable way to create the model \n",
    "def create_ann(neurons=32, activation='relu', optimizer='admin'):\n",
    "    model = Sequential()\n",
    "    model.add(Input(shape=(X_train.shape[1],)))  #input structure\n",
    "    model.add(Dense(neurons, activation=activation)) # hidden layer\n",
    "    model.add(Dense(PREDICTED_DAYS)) #output\n",
    "    model.compile(loss='mean_squared_error', optimizer=optimizer, metrics=['mae'])\n",
    "    return model"
   ]
  },
  {
   "cell_type": "markdown",
   "id": "223c8245-e4a6-43de-b40a-1266e269a4b5",
   "metadata": {},
   "source": [
    "<h1> GridSearch setup </h1>"
   ]
  },
  {
   "cell_type": "code",
   "execution_count": null,
   "id": "ce60ecbc-1e3d-4ab2-8b31-92bc1ff246a9",
   "metadata": {},
   "outputs": [],
   "source": [
    "# defone model parameters and create model\n",
    "param_grid = {\n",
    "    'model__neurons': [16, 32, 64, 128],\n",
    "    'model__activation': ['relu', 'tanh', 'sigmoid'],\n",
    "    'model__optimizer': ['adam', 'sgd'],\n",
    "    'batch_size': [16, 32],\n",
    "    'epochs': [50, 100]\n",
    "}"
   ]
  },
  {
   "cell_type": "code",
   "execution_count": null,
   "id": "94fd97d0-1bde-4124-9d18-b549f2900716",
   "metadata": {},
   "outputs": [],
   "source": [
    "#training\n",
    "model = KerasRegressor(model=create_ann, verbose=0) #keras regressor is a wrapper to us scikit learn gid search\n",
    "\n",
    "\n",
    "# Initialize GridSearchCV\n",
    "grid_search = GridSearchCV(\n",
    "    estimator=model,\n",
    "    param_grid=param_grid,\n",
    "    cv=3,                       # cross-validation\n",
    "    scoring='neg_mean_absolute_error',         # Use mse as scoring\n",
    "    verbose=100,\n",
    "    n_jobs=-1                   # Use all available cores\n",
    ")\n",
    "\n",
    "# Perform grid search on training data\n",
    "grid_search.fit(X_train, y_train)\n",
    "\n",
    "results_df = pd.DataFrame(grid_search.cv_results_)\n"
   ]
  },
  {
   "cell_type": "code",
   "execution_count": null,
   "id": "a398f40d-ac27-45ab-924f-df3f3123dd53",
   "metadata": {},
   "outputs": [],
   "source": [
    "# results_df = pd.DataFrame(grid_search.cv_results_).sort_values(by='mean_test_score', ascending=False)\n",
    "# for i, row in results_df.iterrows():\n",
    "#     print(f\"Rank {row['rank_test_score']}:\")\n",
    "#     print(f\"Parameters: {row['params']}\")\n",
    "#     print(f\"Mean Test Score: {row['mean_test_score']:.4f}\")\n",
    "#     print(f\"Std Dev of Test Score: {row['std_test_score']:.4f}\")\n",
    "#     print(\"-\" * 30)"
   ]
  },
  {
   "cell_type": "code",
   "execution_count": null,
   "id": "b0eb8cbb-a511-45fb-a4cb-171cccbf0919",
   "metadata": {},
   "outputs": [],
   "source": [
    "def graph_predictions(predictions, actual, title):\n",
    "    # Visualize Predictions vs. Actual Outcomes\n",
    "    plt.figure(figsize=(8, 6))\n",
    "    plt.scatter(actual, predictions, alpha=0.7, color='b', label='Predicted vs Actual')\n",
    "    plt.plot([predictions.min(), predictions.max()], [predictions.min(), predictions.max()], 'r--', lw=2, label='Perfect Prediction')  # Diagonal line\n",
    "    plt.title(f'{title}: Actual vs Predicted Values', fontsize=14)\n",
    "    plt.xlabel('Actual Values', fontsize=12)\n",
    "    plt.ylabel('Predicted Values', fontsize=12)\n",
    "    plt.legend(fontsize=12)\n",
    "    plt.grid(True)\n",
    "    plt.show()\n",
    "\n",
    "    mae = mean_absolute_error(predictions, actual)\n",
    "    mse = mean_squared_error(predictions, actual)\n",
    "    rmse = np.sqrt(mse)\n",
    "\n",
    "    print(f\"{title}  MAE: {mae}\")\n",
    "    print(f\"{title}  RMSE: {rmse}\")\n",
    "\n",
    "    # trueUp = 0 #predicted up actual up\n",
    "    # trueDown = 0 #predicted down actual down\n",
    "    # falseUp = 0 #prdicted up actual down\n",
    "    # falseDown = 0 #predicted down actual up\n",
    "    # for i in range(len(predictions)):\n",
    "    #     if(predictions[i] <= 0 and actual[i] < 0):\n",
    "    #         trueUp +=1\n",
    "    #     elif(predictions[i] <= 0 and actual[i] > 0):\n",
    "    #         falseUp +=1\n",
    "    #     elif(actual[i] < 0):\n",
    "    #         trueDown +=1\n",
    "    #     else:\n",
    "    #         falseDown +=1\n",
    "\n",
    "    # confusion_matrix = np.array([[trueUp, falseDown], \n",
    "    #                          [falseUp, trueDown]])\n",
    "\n",
    "    # # Labels for the axes\n",
    "    # categories = [\"Actual Up\", \"Actual Down\"]\n",
    "    # predictions = [\"Predicted Up\", \"Predicted Down\"]\n",
    "    \n",
    "    # # Plot the confusion matrix\n",
    "    # plt.figure(figsize=(6, 6))\n",
    "    # sns.heatmap(confusion_matrix, annot=True, fmt='d', cmap='Blues', xticklabels=predictions, yticklabels=categories)\n",
    "    # plt.xlabel(\"Predicted Labels\", fontsize=12)\n",
    "    # plt.ylabel(\"Actual Labels\", fontsize=12)\n",
    "    # plt.title(\"Confusion Matrix\", fontsize=14)\n",
    "    # plt.show()\n"
   ]
  },
  {
   "cell_type": "code",
   "execution_count": null,
   "id": "78022503-45c0-4bca-a1bf-23df289afadd",
   "metadata": {},
   "outputs": [],
   "source": [
    "# use best model to predict test data=\n",
    "predictions = grid_search.best_estimator_.predict(X_test)\n",
    "graph_predictions(predictions, y_test, \"test data\")\n"
   ]
  },
  {
   "cell_type": "code",
   "execution_count": null,
   "id": "7401708b-9a55-45aa-8f40-d0db293bbe33",
   "metadata": {},
   "outputs": [],
   "source": [
    "# trying to predict more recent ones\n",
    "stock = yf.Ticker('AAPL')\n",
    "data_to_predict = yf.download(\"AAPL\", start=\"2024-01-01\", end=\"2024-06-01\")\n",
    "data_to_predict['SMA_10'] = data_to_predict['Close'].rolling(window=10).mean()\n",
    "data_to_predict['SMA_50'] = data_to_predict['Close'].rolling(window=50).mean()\n",
    "data_to_predict['Price_Change'] = data_to_predict['Close'].pct_change()\n",
    "data_to_predict['Target'] = data_to_predict['Close'].shift(-1)\n",
    "data_to_predict.dropna(inplace=True)\n",
    "\n",
    "for i in range(1, PREDICTED_DAYS + 1):\n",
    "    data_to_predict[f'target_{i}'] = data_to_predict['Close'].pct_change(-1 * i)\n",
    "\n",
    "#drop rows\n",
    "data_to_predict.dropna(inplace=True)\n",
    "X = data_to_predict[['SMA_10', 'SMA_50', 'High', 'Close', 'Open', 'Low']]\n",
    "Y = data_to_predict[[f'Target_{i}' for i in range(1, PREDICTED_DAYS + 1)]]\n",
    "\n",
    "#preprocess\n",
    "X_scaled = scaler_X.fit_transform(X)\n",
    "Y_scaled = scaler_y.fit_transform(Y)\n",
    "predictions = grid_search.best_estimator_.predict(X_scaled)\n",
    "\n",
    "mae = mean_absolute_error(Y_scaled, predictions)\n",
    "mse = mean_squared_error(Y_scaled, predictions)\n",
    "rmse = np.sqrt(mse)\n",
    "\n",
    "graph_predictions(Y_scaled, predictions, \"recent data predicitons\")"
   ]
  },
  {
   "cell_type": "code",
   "execution_count": null,
   "id": "8512d4da-5a71-4e90-ac3c-b6c62799c1a4",
   "metadata": {},
   "outputs": [],
   "source": [
    "for i in range(PREDICTED_DAYS):\n",
    "    graph_predictions(predictions[:, i], Y_scaled[:, i], f'{i + 1} days in advance')\n"
   ]
  },
  {
   "cell_type": "code",
   "execution_count": null,
   "id": "4122ac85-b237-468e-b1a0-32d657d2d17c",
   "metadata": {},
   "outputs": [],
   "source": []
  },
  {
   "cell_type": "raw",
   "id": "c81f3d05-14b2-4aa6-8377-72e605c7b362",
   "metadata": {},
   "source": []
  }
 ],
 "metadata": {
  "kernelspec": {
   "display_name": "Python [conda env:base] *",
   "language": "python",
   "name": "conda-base-py"
  },
  "language_info": {
   "codemirror_mode": {
    "name": "ipython",
    "version": 3
   },
   "file_extension": ".py",
   "mimetype": "text/x-python",
   "name": "python",
   "nbconvert_exporter": "python",
   "pygments_lexer": "ipython3",
   "version": "3.12.7"
  }
 },
 "nbformat": 4,
 "nbformat_minor": 5
}
