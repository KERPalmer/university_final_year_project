{
 "cells": [
  {
   "cell_type": "code",
   "execution_count": 1,
   "id": "14774e11-bbbc-4ef9-90d2-735bc68f10ac",
   "metadata": {
    "scrolled": true
   },
   "outputs": [],
   "source": [
    "# pip install pandas numpy scikit-learn matplotlib yfinance tensorflow scikeras"
   ]
  },
  {
   "cell_type": "code",
   "execution_count": 2,
   "id": "8882ecca-13c5-4efa-8651-91d2214bfb1e",
   "metadata": {},
   "outputs": [
    {
     "name": "stderr",
     "output_type": "stream",
     "text": [
      "2024-12-29 16:57:21.712467: I tensorflow/core/platform/cpu_feature_guard.cc:210] This TensorFlow binary is optimized to use available CPU instructions in performance-critical operations.\n",
      "To enable the following instructions: AVX2 FMA, in other operations, rebuild TensorFlow with the appropriate compiler flags.\n"
     ]
    }
   ],
   "source": [
    "import pandas as pd\n",
    "import numpy as np\n",
    "import matplotlib.pyplot as plt\n",
    "import yfinance as yf\n",
    "\n",
    "from sklearn.model_selection import train_test_split, GridSearchCV\n",
    "from sklearn.metrics import mean_absolute_error, mean_squared_error\n",
    "from sklearn.preprocessing import StandardScaler\n",
    "from tensorflow.keras.models import Sequential\n",
    "from tensorflow.keras.layers import Dense, Input\n",
    "from scikeras.wrappers import KerasRegressor"
   ]
  },
  {
   "cell_type": "code",
   "execution_count": 3,
   "id": "828abf7d-90ae-408d-abb9-f57146d3b539",
   "metadata": {},
   "outputs": [
    {
     "name": "stderr",
     "output_type": "stream",
     "text": [
      "[*********************100%***********************]  1 of 1 completed\n"
     ]
    }
   ],
   "source": [
    "# Download Apple stock data\n",
    "data = yf.download(\"AAPL\", start=\"2015-01-01\", end=\"2023-01-01\")\n",
    "\n",
    "# Calculate moving averages and relative price change\n",
    "data['SMA_10'] = data['Close'].rolling(window=10).mean()\n",
    "data['SMA_50'] = data['Close'].rolling(window=50).mean()\n",
    "data['Price_Change'] = data['Close'].pct_change()\n",
    "\n",
    "# set target as next days close\n",
    "data['Target'] = data['Close'].shift(-1)\n",
    "\n",
    "# Drop rows with missing values\n",
    "data.dropna(inplace=True)\n",
    "\n",
    "#print(data.head())"
   ]
  },
  {
   "cell_type": "code",
   "execution_count": 4,
   "id": "6e81d38c-90be-4876-803c-d61f54599e82",
   "metadata": {},
   "outputs": [
    {
     "name": "stdout",
     "output_type": "stream",
     "text": [
      "Training samples: 1571, Testing samples: 393\n"
     ]
    }
   ],
   "source": [
    "#scale data\n",
    "scaler_X = StandardScaler()\n",
    "scaler_y = StandardScaler()\n",
    "\n",
    "X = data[['SMA_10', 'SMA_50', 'Price_Change']]\n",
    "X_scaled = scaler_X.fit_transform(X)\n",
    "\n",
    "y = data['Target']\n",
    "y_scaled = scaler_y.fit_transform(y.to_frame())\n",
    "\n",
    "\n",
    "# Split data into training and testing sets\n",
    "X_train, X_test, y_train, y_test = train_test_split(X_scaled, y_scaled, test_size=0.2, random_state=42)\n",
    "\n",
    "print(f\"Training samples: {len(X_train)}, Testing samples: {len(X_test)}\")"
   ]
  },
  {
   "cell_type": "code",
   "execution_count": 5,
   "id": "c5377aef-56d5-4773-a5f1-a833421cf2dd",
   "metadata": {},
   "outputs": [],
   "source": [
    "#repeatable way to create the model \n",
    "def create_ann(neurons=32, activation='relu', optimizer='admin'):\n",
    "    model = Sequential()\n",
    "    model.add(Input(shape=(X_train.shape[1],)))  #input structure\n",
    "    model.add(Dense(neurons, activation=activation)) # hidden layer\n",
    "    model.add(Dense(1)) #output\n",
    "    model.compile(loss='mean_squared_error', optimizer=optimizer, metrics=['mae'])\n",
    "    return model"
   ]
  },
  {
   "cell_type": "markdown",
   "id": "223c8245-e4a6-43de-b40a-1266e269a4b5",
   "metadata": {},
   "source": [
    "<h1> GridSearch setup </h1>"
   ]
  },
  {
   "cell_type": "code",
   "execution_count": 7,
   "id": "ce60ecbc-1e3d-4ab2-8b31-92bc1ff246a9",
   "metadata": {},
   "outputs": [],
   "source": [
    "# defone model parameters and create model\n",
    "param_grid = {\n",
    "    'model__neurons': [16, 32, 64, 128],\n",
    "    'model__activation': ['relu', 'tanh', 'sigmoid'],\n",
    "    'model__optimizer': ['adam', 'sgd'],\n",
    "    'batch_size': [16, 32],\n",
    "    'epochs': [50, 100]\n",
    "}"
   ]
  },
  {
   "cell_type": "code",
   "execution_count": null,
   "id": "94fd97d0-1bde-4124-9d18-b549f2900716",
   "metadata": {},
   "outputs": [
    {
     "name": "stdout",
     "output_type": "stream",
     "text": [
      "Fitting 3 folds for each of 96 candidates, totalling 288 fits\n"
     ]
    },
    {
     "name": "stderr",
     "output_type": "stream",
     "text": [
      "2024-12-29 16:57:35.202695: I tensorflow/core/platform/cpu_feature_guard.cc:210] This TensorFlow binary is optimized to use available CPU instructions in performance-critical operations.\n",
      "To enable the following instructions: AVX2 FMA, in other operations, rebuild TensorFlow with the appropriate compiler flags.\n",
      "2024-12-29 16:57:35.203036: I tensorflow/core/platform/cpu_feature_guard.cc:210] This TensorFlow binary is optimized to use available CPU instructions in performance-critical operations.\n",
      "To enable the following instructions: AVX2 FMA, in other operations, rebuild TensorFlow with the appropriate compiler flags.\n",
      "2024-12-29 16:57:35.205698: I tensorflow/core/platform/cpu_feature_guard.cc:210] This TensorFlow binary is optimized to use available CPU instructions in performance-critical operations.\n",
      "To enable the following instructions: AVX2 FMA, in other operations, rebuild TensorFlow with the appropriate compiler flags.\n",
      "2024-12-29 16:57:35.223853: I tensorflow/core/platform/cpu_feature_guard.cc:210] This TensorFlow binary is optimized to use available CPU instructions in performance-critical operations.\n",
      "To enable the following instructions: AVX2 FMA, in other operations, rebuild TensorFlow with the appropriate compiler flags.\n"
     ]
    },
    {
     "name": "stdout",
     "output_type": "stream",
     "text": [
      "[CV 3/3; 1/96] START batch_size=16, epochs=50, model__activation=relu, model__neurons=16, model__optimizer=adam\n",
      "[CV 2/3; 1/96] START batch_size=16, epochs=50, model__activation=relu, model__neurons=16, model__optimizer=adam\n",
      "[CV 1/3; 2/96] START batch_size=16, epochs=50, model__activation=relu, model__neurons=16, model__optimizer=sgd\n",
      "[CV 1/3; 1/96] START batch_size=16, epochs=50, model__activation=relu, model__neurons=16, model__optimizer=adam\n",
      "[CV 1/3; 2/96] END batch_size=16, epochs=50, model__activation=relu, model__neurons=16, model__optimizer=sgd;, score=-0.040 total time=  17.9s\n",
      "[CV 2/3; 1/96] END batch_size=16, epochs=50, model__activation=relu, model__neurons=16, model__optimizer=adam;, score=-0.038 total time=  18.2s\n",
      "[CV 2/3; 2/96] START batch_size=16, epochs=50, model__activation=relu, model__neurons=16, model__optimizer=sgd\n",
      "[CV 3/3; 2/96] START batch_size=16, epochs=50, model__activation=relu, model__neurons=16, model__optimizer=sgd\n",
      "[CV 1/3; 1/96] END batch_size=16, epochs=50, model__activation=relu, model__neurons=16, model__optimizer=adam;, score=-0.040 total time=  18.7s\n",
      "[CV 1/3; 3/96] START batch_size=16, epochs=50, model__activation=relu, model__neurons=32, model__optimizer=adam\n",
      "[CV 3/3; 1/96] END batch_size=16, epochs=50, model__activation=relu, model__neurons=16, model__optimizer=adam;, score=-0.040 total time=  19.3s\n",
      "[CV 2/3; 3/96] START batch_size=16, epochs=50, model__activation=relu, model__neurons=32, model__optimizer=adam\n",
      "[CV 2/3; 2/96] END batch_size=16, epochs=50, model__activation=relu, model__neurons=16, model__optimizer=sgd;, score=-0.038 total time=  15.9s\n",
      "[CV 3/3; 3/96] START batch_size=16, epochs=50, model__activation=relu, model__neurons=32, model__optimizer=adam\n",
      "[CV 3/3; 2/96] END batch_size=16, epochs=50, model__activation=relu, model__neurons=16, model__optimizer=sgd;, score=-0.045 total time=  16.8s\n",
      "[CV 1/3; 4/96] START batch_size=16, epochs=50, model__activation=relu, model__neurons=32, model__optimizer=sgd\n",
      "[CV 1/3; 3/96] END batch_size=16, epochs=50, model__activation=relu, model__neurons=32, model__optimizer=adam;, score=-0.038 total time=  18.3s\n",
      "[CV 2/3; 4/96] START batch_size=16, epochs=50, model__activation=relu, model__neurons=32, model__optimizer=sgd\n",
      "[CV 2/3; 3/96] END batch_size=16, epochs=50, model__activation=relu, model__neurons=32, model__optimizer=adam;, score=-0.039 total time=  18.3s\n",
      "[CV 3/3; 4/96] START batch_size=16, epochs=50, model__activation=relu, model__neurons=32, model__optimizer=sgd\n",
      "[CV 1/3; 4/96] END batch_size=16, epochs=50, model__activation=relu, model__neurons=32, model__optimizer=sgd;, score=-0.049 total time=  17.6s\n",
      "[CV 1/3; 5/96] START batch_size=16, epochs=50, model__activation=relu, model__neurons=64, model__optimizer=adam\n",
      "[CV 3/3; 3/96] END batch_size=16, epochs=50, model__activation=relu, model__neurons=32, model__optimizer=adam;, score=-0.043 total time=  19.1s\n",
      "[CV 2/3; 5/96] START batch_size=16, epochs=50, model__activation=relu, model__neurons=64, model__optimizer=adam\n",
      "[CV 3/3; 4/96] END batch_size=16, epochs=50, model__activation=relu, model__neurons=32, model__optimizer=sgd;, score=-0.048 total time=  16.2s\n",
      "[CV 3/3; 5/96] START batch_size=16, epochs=50, model__activation=relu, model__neurons=64, model__optimizer=adam\n",
      "[CV 2/3; 4/96] END batch_size=16, epochs=50, model__activation=relu, model__neurons=32, model__optimizer=sgd;, score=-0.043 total time=  16.9s\n",
      "[CV 1/3; 6/96] START batch_size=16, epochs=50, model__activation=relu, model__neurons=64, model__optimizer=sgd\n",
      "[CV 1/3; 6/96] END batch_size=16, epochs=50, model__activation=relu, model__neurons=64, model__optimizer=sgd;, score=-0.043 total time=  17.2s\n",
      "[CV 2/3; 6/96] START batch_size=16, epochs=50, model__activation=relu, model__neurons=64, model__optimizer=sgd\n",
      "[CV 1/3; 5/96] END batch_size=16, epochs=50, model__activation=relu, model__neurons=64, model__optimizer=adam;, score=-0.036 total time=  18.8s\n",
      "[CV 3/3; 6/96] START batch_size=16, epochs=50, model__activation=relu, model__neurons=64, model__optimizer=sgd\n",
      "[CV 2/3; 5/96] END batch_size=16, epochs=50, model__activation=relu, model__neurons=64, model__optimizer=adam;, score=-0.036 total time=  18.7s\n",
      "[CV 1/3; 7/96] START batch_size=16, epochs=50, model__activation=relu, model__neurons=128, model__optimizer=adam\n",
      "[CV 3/3; 5/96] END batch_size=16, epochs=50, model__activation=relu, model__neurons=64, model__optimizer=adam;, score=-0.038 total time=  18.7s\n",
      "[CV 2/3; 7/96] START batch_size=16, epochs=50, model__activation=relu, model__neurons=128, model__optimizer=adam\n",
      "[CV 3/3; 6/96] END batch_size=16, epochs=50, model__activation=relu, model__neurons=64, model__optimizer=sgd;, score=-0.050 total time=  20.1s\n",
      "[CV 3/3; 7/96] START batch_size=16, epochs=50, model__activation=relu, model__neurons=128, model__optimizer=adam\n",
      "[CV 2/3; 6/96] END batch_size=16, epochs=50, model__activation=relu, model__neurons=64, model__optimizer=sgd;, score=-0.040 total time=  21.7s\n",
      "[CV 1/3; 8/96] START batch_size=16, epochs=50, model__activation=relu, model__neurons=128, model__optimizer=sgd\n",
      "[CV 1/3; 7/96] END batch_size=16, epochs=50, model__activation=relu, model__neurons=128, model__optimizer=adam;, score=-0.036 total time=  22.5s\n",
      "[CV 2/3; 8/96] START batch_size=16, epochs=50, model__activation=relu, model__neurons=128, model__optimizer=sgd\n",
      "[CV 2/3; 7/96] END batch_size=16, epochs=50, model__activation=relu, model__neurons=128, model__optimizer=adam;, score=-0.038 total time=  24.3s\n",
      "[CV 3/3; 8/96] START batch_size=16, epochs=50, model__activation=relu, model__neurons=128, model__optimizer=sgd\n"
     ]
    }
   ],
   "source": [
    "#training\n",
    "model = KerasRegressor(model=create_ann, verbose=0) #keras regressor is a wrapper to us scikit learn gid search\n",
    "\n",
    "\n",
    "# Initialize GridSearchCV\n",
    "grid_search = GridSearchCV(\n",
    "    estimator=model,\n",
    "    param_grid=param_grid,\n",
    "    cv=3,                       # cross-validation\n",
    "    scoring='neg_mean_absolute_error',         # Use mse as scoring\n",
    "    verbose=100,\n",
    "    n_jobs=-1                   # Use all available cores\n",
    ")\n",
    "\n",
    "# Perform grid search on training data\n",
    "grid_search.fit(X_train, y_train)\n",
    "\n",
    "results_df = pd.DataFrame(grid_search.cv_results_)\n"
   ]
  },
  {
   "cell_type": "code",
   "execution_count": null,
   "id": "a398f40d-ac27-45ab-924f-df3f3123dd53",
   "metadata": {},
   "outputs": [],
   "source": [
    "# results_df = pd.DataFrame(grid_search.cv_results_).sort_values(by='mean_test_score', ascending=False)\n",
    "# for i, row in results_df.iterrows():\n",
    "#     print(f\"Rank {row['rank_test_score']}:\")\n",
    "#     print(f\"Parameters: {row['params']}\")\n",
    "#     print(f\"Mean Test Score: {row['mean_test_score']:.4f}\")\n",
    "#     print(f\"Std Dev of Test Score: {row['std_test_score']:.4f}\")\n",
    "#     print(\"-\" * 30)"
   ]
  },
  {
   "cell_type": "code",
   "execution_count": null,
   "id": "78022503-45c0-4bca-a1bf-23df289afadd",
   "metadata": {},
   "outputs": [],
   "source": [
    "# use best model to predict\n",
    "final_model = grid_search.best_estimator_\n",
    "\n",
    "# Predict on test data\n",
    "final_predictions = final_model.predict(X_test)\n",
    "\n",
    "# Evaluate the final model\n",
    "mae = mean_absolute_error(y_test, final_predictions)\n",
    "mse = mean_squared_error(y_test, final_predictions)\n",
    "rmse = np.sqrt(mse)\n",
    "\n",
    "print(f\"Final Model MAE: {mae}\")\n",
    "print(f\"Final Model RMSE: {rmse}\")\n",
    "\n",
    "# Visualize Predictions vs. Actual Outcomes\n",
    "plt.figure(figsize=(8, 6))\n",
    "plt.scatter(y_test, final_predictions, alpha=0.7, color='b', label='Predicted vs Actual')\n",
    "plt.plot([y_test.min(), y_test.max()], [y_test.min(), y_test.max()], 'r--', lw=2, label='Perfect Prediction')  # Diagonal line\n",
    "plt.title('Actual vs Predicted Values', fontsize=14)\n",
    "plt.xlabel('Actual Values', fontsize=12)\n",
    "plt.ylabel('Predicted Values', fontsize=12)\n",
    "plt.legend(fontsize=12)\n",
    "plt.grid(True)\n",
    "plt.show()"
   ]
  },
  {
   "cell_type": "code",
   "execution_count": null,
   "id": "7401708b-9a55-45aa-8f40-d0db293bbe33",
   "metadata": {},
   "outputs": [],
   "source": [
    "# trying to predict more recent ones\n",
    "stock = yf.Ticker('AAPL')\n",
    "data_to_predict = yf.download(\"AAPL\", start=\"2024-01-01\", end=\"2024-06-01\")\n",
    "data_to_predict['SMA_10'] = data_to_predict['Close'].rolling(window=10).mean()\n",
    "data_to_predict['SMA_50'] = data_to_predict['Close'].rolling(window=50).mean()\n",
    "data_to_predict['Price_Change'] = data_to_predict['Close'].pct_change()\n",
    "data_to_predict['Target'] = data_to_predict['Close'].shift(-1)\n",
    "data_to_predict.dropna(inplace=True)\n",
    "\n",
    "X = data_to_predict[['SMA_10', 'SMA_50', 'Price_Change']]\n",
    "Y = data_to_predict['Target']\n",
    "\n",
    "X_scaled = scaler_X.fit_transform(X)\n",
    "Y_scaled = scaler_y.fit_transform(Y.to_frame())\n",
    "\n",
    "final_predictions = final_model.predict(X_scaled)\n",
    "\n",
    "mae = mean_absolute_error(Y_scaled, final_predictions)\n",
    "mse = mean_squared_error(Y_scaled, final_predictions)\n",
    "rmse = np.sqrt(mse)\n",
    "\n",
    "print(f\"Final Model MAE: {mae}\")\n",
    "print(f\"Final Model RMSE: {rmse}\")\n",
    "\n",
    "# Visualize Predictions vs. Actual Outcomes\n",
    "plt.figure(figsize=(8, 6))\n",
    "plt.scatter(Y_scaled, final_predictions, alpha=0.7, color='b', label='Predicted vs Actual')\n",
    "plt.plot([Y_scaled.min(), Y_scaled.max()], [Y_scaled.min(), Y_scaled.max()], 'r--', lw=2, label='Perfect Prediction')  # Diagonal line\n",
    "plt.title('Actual vs Predicted Values', fontsize=14)\n",
    "plt.xlabel('Actual Values', fontsize=12)\n",
    "plt.ylabel('Predicted Values', fontsize=12)\n",
    "plt.legend(fontsize=12)\n",
    "plt.grid(True)\n",
    "plt.show()"
   ]
  },
  {
   "cell_type": "code",
   "execution_count": null,
   "id": "b0eb8cbb-a511-45fb-a4cb-171cccbf0919",
   "metadata": {},
   "outputs": [],
   "source": []
  }
 ],
 "metadata": {
  "kernelspec": {
   "display_name": "Python [conda env:base] *",
   "language": "python",
   "name": "conda-base-py"
  },
  "language_info": {
   "codemirror_mode": {
    "name": "ipython",
    "version": 3
   },
   "file_extension": ".py",
   "mimetype": "text/x-python",
   "name": "python",
   "nbconvert_exporter": "python",
   "pygments_lexer": "ipython3",
   "version": "3.12.7"
  }
 },
 "nbformat": 4,
 "nbformat_minor": 5
}
