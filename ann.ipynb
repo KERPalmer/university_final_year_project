{
 "cells": [
  {
   "cell_type": "code",
   "execution_count": null,
   "id": "14774e11-bbbc-4ef9-90d2-735bc68f10ac",
   "metadata": {
    "scrolled": true
   },
   "outputs": [],
   "source": [
    "# pip install pandas numpy scikit-learn matplotlib yfinance tensorflow scikeras"
   ]
  },
  {
   "cell_type": "code",
   "execution_count": null,
   "id": "8882ecca-13c5-4efa-8651-91d2214bfb1e",
   "metadata": {},
   "outputs": [],
   "source": [
    "import pandas as pd\n",
    "import numpy as np\n",
    "import matplotlib.pyplot as plt\n",
    "import yfinance as yf\n",
    "\n",
    "from sklearn.model_selection import train_test_split, GridSearchCV\n",
    "from sklearn.metrics import mean_absolute_error, mean_squared_error\n",
    "from sklearn.preprocessing import StandardScaler\n",
    "from tensorflow.keras.models import Sequential\n",
    "from tensorflow.keras.layers import Dense, Input\n",
    "from scikeras.wrappers import KerasRegressor\n",
    "\n",
    "from graphing import graph_normal, show_results\n",
    "from get_data import get_apple_stock_split"
   ]
  },
  {
   "cell_type": "code",
   "execution_count": null,
   "id": "6e81d38c-90be-4876-803c-d61f54599e82",
   "metadata": {},
   "outputs": [],
   "source": [
    "scaler_X = StandardScaler()\n",
    "scaler_Y = StandardScaler()\n",
    "\n",
    "X_train, X_test, Y_train, Y_test = get_apple_stock_split(scaler_X, scaler_Y)\n",
    "print(f\"Training samples: {len(X_train)}, Testing samples: {len(X_test)}\")"
   ]
  },
  {
   "cell_type": "code",
   "execution_count": null,
   "id": "c5377aef-56d5-4773-a5f1-a833421cf2dd",
   "metadata": {},
   "outputs": [],
   "source": [
    "#repeatable way to create the model \n",
    "def create_ann(neurons=32, activation='relu', optimizer='admin'):\n",
    "    model = Sequential()\n",
    "    model.add(Input(shape=(X_train.shape[1],)))  #input structure\n",
    "    model.add(Dense(neurons, activation=activation)) # hidden layer\n",
    "    model.add(Dense(1)) #output\n",
    "    model.compile(loss='mean_squared_error', optimizer=optimizer, metrics=['mae'])\n",
    "    return model"
   ]
  },
  {
   "cell_type": "markdown",
   "id": "223c8245-e4a6-43de-b40a-1266e269a4b5",
   "metadata": {},
   "source": [
    "<h1> GridSearch setup </h1>"
   ]
  },
  {
   "cell_type": "code",
   "execution_count": null,
   "id": "ce60ecbc-1e3d-4ab2-8b31-92bc1ff246a9",
   "metadata": {},
   "outputs": [],
   "source": [
    "# defone model parameters and create model\n",
    "# param_grid = {\n",
    "#     'model__neurons': [16, 32, 64, 128],\n",
    "#     'model__activation': ['relu', 'tanh', 'sigmoid'],\n",
    "#     'model__optimizer': ['adam', 'sgd'],\n",
    "#     'batch_size': [16, 32],\n",
    "#     'epochs': [50, 100]\n",
    "# }\n",
    "\n",
    "param_grid = {\n",
    "    'model__neurons': [16],\n",
    "    'model__activation': ['relu', 'tanh'],\n",
    "    'model__optimizer': ['adam', 'sgd'],\n",
    "    'batch_size': [16],\n",
    "    'epochs': [50, 100]\n",
    "}"
   ]
  },
  {
   "cell_type": "code",
   "execution_count": null,
   "id": "94fd97d0-1bde-4124-9d18-b549f2900716",
   "metadata": {},
   "outputs": [],
   "source": [
    "#training\n",
    "model = KerasRegressor(model=create_ann, verbose=0) #keras regressor is a wrapper to us scikit learn gid search\n",
    "\n",
    "\n",
    "# Initialize GridSearchCV\n",
    "grid_search = GridSearchCV(\n",
    "    estimator=model,\n",
    "    param_grid=param_grid,\n",
    "    cv=3,                       # cross-validation\n",
    "    scoring='neg_mean_absolute_error',         # Use mse as scoring\n",
    "    verbose=1,\n",
    "    n_jobs=-1                   # Use all available cores\n",
    ")\n",
    "\n",
    "# Perform grid search on training data\n",
    "grid_search.fit(X_train, Y_train)\n",
    "\n",
    "results_df = pd.DataFrame(grid_search.cv_results_)\n"
   ]
  },
  {
   "cell_type": "code",
   "execution_count": null,
   "id": "a398f40d-ac27-45ab-924f-df3f3123dd53",
   "metadata": {},
   "outputs": [],
   "source": [
    "# results_df = pd.DataFrame(grid_search.cv_results_).sort_values(by='mean_test_score', ascending=False)\n",
    "# for i, row in results_df.iterrows():\n",
    "#     print(f\"Rank {row['rank_test_score']}:\")\n",
    "#     print(f\"Parameters: {row['params']}\")\n",
    "#     print(f\"Mean Test Score: {row['mean_test_score']:.4f}\")\n",
    "#     print(f\"Std Dev of Test Score: {row['std_test_score']:.4f}\")\n",
    "#     print(\"-\" * 30)"
   ]
  },
  {
   "cell_type": "code",
   "execution_count": null,
   "id": "78022503-45c0-4bca-a1bf-23df289afadd",
   "metadata": {},
   "outputs": [],
   "source": [
    "# use best model to predict\n",
    "final_model = grid_search.best_estimator_\n",
    "\n",
    "# Predict on test data\n",
    "final_predictions = final_model.predict(X_test)\n",
    "\n",
    "# Evaluate the final model\n",
    "mae = mean_absolute_error(Y_test, final_predictions)\n",
    "mse = mean_squared_error(Y_test, final_predictions)\n",
    "rmse = np.sqrt(mse)\n",
    "\n",
    "graph_normal(final_predictions, Y_test, \"test data\")"
   ]
  },
  {
   "cell_type": "code",
   "execution_count": null,
   "id": "7401708b-9a55-45aa-8f40-d0db293bbe33",
   "metadata": {},
   "outputs": [],
   "source": [
    "# trying to predict more recent ones\n",
    "stock = yf.Ticker('AAPL')\n",
    "data_to_predict = yf.download(\"AAPL\", start=\"2024-01-01\", end=\"2024-06-01\")\n",
    "data_to_predict['SMA_10'] = data_to_predict['Close'].rolling(window=10).mean()\n",
    "data_to_predict['SMA_50'] = data_to_predict['Close'].rolling(window=50).mean()\n",
    "data_to_predict['Price_Change'] = data_to_predict['Close'].pct_change()\n",
    "data_to_predict['Target'] = data_to_predict['Close'].shift(-1)\n",
    "data_to_predict.dropna(inplace=True)\n",
    "\n",
    "X = data_to_predict[['SMA_10', 'SMA_50','Price_Change', 'High', 'Close', 'Open', 'Low']]\n",
    "Y = data_to_predict['Target']\n",
    "\n",
    "X_scaled = scaler_X.fit_transform(X)\n",
    "Y_scaled = scaler_Y.fit_transform(Y.to_frame())\n",
    "\n",
    "final_predictions = final_model.predict(X_scaled)\n",
    "inverse_scaled_prediction = scaler_Y.inverse_transform(final_predictions.reshape(-1, 1))\n",
    "\n",
    "mae = mean_absolute_error(Y_scaled, final_predictions)\n",
    "mse = mean_squared_error(Y_scaled, final_predictions)\n",
    "rmse = np.sqrt(mse)\n",
    "\n",
    "print(f\"Final Model MAE: {mae}\")\n",
    "print(f\"Final Model RMSE: {rmse}\")\n",
    "\n",
    "graph_normal(inverse_scaled_prediction, Y, \"more recent data\")"
   ]
  },
  {
   "cell_type": "code",
   "execution_count": null,
   "id": "05e7c8a0-4fcc-43ec-8319-f2baec7fc03e",
   "metadata": {},
   "outputs": [],
   "source": []
  },
  {
   "cell_type": "code",
   "execution_count": null,
   "id": "b0eb8cbb-a511-45fb-a4cb-171cccbf0919",
   "metadata": {},
   "outputs": [],
   "source": []
  },
  {
   "cell_type": "code",
   "execution_count": null,
   "id": "1660c419-3ff5-4dee-bf5e-6b2c7d100baf",
   "metadata": {},
   "outputs": [],
   "source": []
  }
 ],
 "metadata": {
  "kernelspec": {
   "display_name": "Python [conda env:base] *",
   "language": "python",
   "name": "conda-base-py"
  },
  "language_info": {
   "codemirror_mode": {
    "name": "ipython",
    "version": 3
   },
   "file_extension": ".py",
   "mimetype": "text/x-python",
   "name": "python",
   "nbconvert_exporter": "python",
   "pygments_lexer": "ipython3",
   "version": "3.12.7"
  }
 },
 "nbformat": 4,
 "nbformat_minor": 5
}
