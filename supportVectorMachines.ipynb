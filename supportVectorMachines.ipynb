{
 "cells": [
  {
   "cell_type": "code",
   "execution_count": null,
   "id": "14774e11-bbbc-4ef9-90d2-735bc68f10ac",
   "metadata": {
    "scrolled": true
   },
   "outputs": [],
   "source": [
    "# pip install pandas numpy scikit-learn matplotlib yfinance"
   ]
  },
  {
   "cell_type": "code",
   "execution_count": null,
   "id": "8882ecca-13c5-4efa-8651-91d2214bfb1e",
   "metadata": {},
   "outputs": [],
   "source": [
    "import pandas as pd\n",
    "import numpy as np\n",
    "import matplotlib.pyplot as plt\n",
    "import yfinance as yf\n",
    "from sklearn.svm import SVR\n",
    "from sklearn.model_selection import train_test_split, GridSearchCV\n",
    "from sklearn.metrics import mean_absolute_error, mean_squared_error\n",
    "from sklearn.preprocessing import MinMaxScaler\n",
    "\n",
    "from graphing import graph_normal, show_results, graph_line\n",
    "from results import get_num_correct_direction_difference\n",
    "from get_data import get_apple_stock_split , get_recent_apple_stock_split"
   ]
  },
  {
   "cell_type": "code",
   "execution_count": null,
   "id": "828abf7d-90ae-408d-abb9-f57146d3b539",
   "metadata": {},
   "outputs": [],
   "source": [
    "scaler_X = MinMaxScaler(feature_range=(-1, 1))\n",
    "scaler_Y = MinMaxScaler(feature_range=(-1, 1))\n",
    "\n",
    "DAYS_LAG = 5\n",
    "\n",
    "X_train, X_test, y_train, y_test = get_apple_stock_split(DAYS_LAG)\n",
    "\n",
    "X_train = scaler_X.fit_transform(X_train)\n",
    "y_train = scaler_Y.fit_transform(y_train)\n",
    "\n",
    "X_test = scaler_X.transform(X_test)\n",
    "y_test = scaler_Y.transform(y_test)\n",
    "print(f\"Training samples: {len(X_train)}, Testing samples: {len(X_test)}\")"
   ]
  },
  {
   "cell_type": "code",
   "execution_count": null,
   "id": "74bd3766-28b0-4b49-ab53-858ed4cef33d",
   "metadata": {},
   "outputs": [],
   "source": [
    "print(np.mean(y_test))\n",
    "print(np.std(y_test, ddof=1))\n",
    "\n",
    "print(np.mean(y_train))\n",
    "print(np.std(y_train, ddof=1))"
   ]
  },
  {
   "cell_type": "markdown",
   "id": "223c8245-e4a6-43de-b40a-1266e269a4b5",
   "metadata": {},
   "source": [
    "<h1> GridSearch setup </h1>"
   ]
  },
  {
   "cell_type": "code",
   "execution_count": null,
   "id": "ce60ecbc-1e3d-4ab2-8b31-92bc1ff246a9",
   "metadata": {},
   "outputs": [],
   "source": [
    "#Define the different hyperparameters for a support vector machine\n",
    "param_grid = {\n",
    "    'kernel': ['linear', 'rbf'],           # The method for transforming the data into anthor dimension so the SVM can find a hyperplane \n",
    "    'C': [0.1, 1],                # Paramter for penalizing misclassifications - effects under or over fitting\n",
    "    'gamma': ['auto'],            # Controlls weight of each point, lower gamma - smoother decision boundary, more generalised\n",
    "    'epsilon': [0.01, 0.1],               # Defines the margin where predictions are considered correct.\n",
    "    'degree': [2]                          # Degee of polynomial\n",
    "}\n",
    "\n",
    "\n",
    "\n",
    "# param_grid = {\n",
    "#     'kernel': ['linear', 'rbf', 'poly'],   # The method for transforming the data into anthor dimension so the SVM can find a hyperplane \n",
    "#     'C': [0.1, 1, 10, 100],                # Paramter for penalizing misclassifications - effects under or over fitting\n",
    "#     'gamma': ['scale', 'auto'],            # Controlls weight of each point, lower gamma - smoother decision boundary, more generalised\n",
    "#     'epsilon': [0.01, 0.1, 0.5, 1],        # Defines the margin where predictions are considered correct.\n",
    "#     'degree': [2, 3 , 4]                   # Degee of polynomial\n",
    "# }"
   ]
  },
  {
   "cell_type": "code",
   "execution_count": null,
   "id": "94fd97d0-1bde-4124-9d18-b549f2900716",
   "metadata": {
    "scrolled": true
   },
   "outputs": [],
   "source": [
    "#training\n",
    "svr = SVR()\n",
    "\n",
    "# Initialize GridSearchCV\n",
    "grid_search = GridSearchCV(\n",
    "    estimator=svr,\n",
    "    param_grid=param_grid,\n",
    "    cv=3,                                      # Cross-validation\n",
    "    scoring='neg_mean_absolute_error',         # Use mse as scoring\n",
    "    verbose=100,                               # How Much is printed in Console\n",
    "    n_jobs=-1                                  # Use all available cores\n",
    ")\n",
    "\n",
    "# Perform grid search on training data\n",
    "grid_search.fit(X_train, y_train.ravel())\n",
    "\n",
    "results_df = pd.DataFrame(grid_search.cv_results_)"
   ]
  },
  {
   "cell_type": "raw",
   "id": "4c9d2880-cd6e-4099-bfd5-9e3b1664d95a",
   "metadata": {},
   "source": [
    "#show_results(grid_search.cv_results_)"
   ]
  },
  {
   "cell_type": "code",
   "execution_count": null,
   "id": "78022503-45c0-4bca-a1bf-23df289afadd",
   "metadata": {},
   "outputs": [],
   "source": [
    "# use best model to predict test data\n",
    "final_model = grid_search.best_estimator_\n",
    "\n",
    "# Predict on test data\n",
    "predictions = final_model.predict(X_test)\n",
    "\n",
    "# Evaluate the final model\n",
    "mae = mean_absolute_error(y_test, predictions)\n",
    "mse = mean_squared_error(y_test, predictions)\n",
    "rmse = np.sqrt(mse)\n",
    "\n",
    "print(f\"Final Model MAE: {mae}\")\n",
    "print(f\"Final Model RMSE: {rmse}\")\n",
    "\n",
    "graph_normal(predictions, y_test, \"test data\")"
   ]
  },
  {
   "cell_type": "code",
   "execution_count": null,
   "id": "756e4fa5-5e71-4cf7-8586-f3695ccf645e",
   "metadata": {},
   "outputs": [],
   "source": [
    "inverse_scaled_prediction = scaler_Y.inverse_transform(predictions.reshape(-1,1))\n",
    "get_num_correct_direction_difference(inverse_scaled_prediction, scaler_Y.inverse_transform(y_test.reshape(-1,1)))"
   ]
  },
  {
   "cell_type": "code",
   "execution_count": null,
   "id": "7406e382-736d-4838-8d19-64d35d9297a1",
   "metadata": {},
   "outputs": [],
   "source": [
    "# trying to predict more recent ones\n",
    "X, y = get_recent_apple_stock_split(DAYS_LAG)\n",
    "\n",
    "print(f\"samples: {len(X)}\")\n",
    "\n",
    "#preprocess\n",
    "X_scaled = scaler_X.transform(X)\n",
    "y_scaled = scaler_Y.transform(y)\n",
    "predictions = grid_search.best_estimator_.predict(X_scaled)\n",
    "\n",
    "mae = mean_absolute_error(y_scaled, predictions)\n",
    "mse = mean_squared_error(y_scaled, predictions)\n",
    "rmse = np.sqrt(mse)\n",
    "\n",
    "graph_normal(predictions, y_scaled, \"recent data predicitons\")\n",
    "graph_line(predictions, y_scaled, \"recent data predicitons\")\n",
    "get_num_correct_direction_difference(predictions,y_scaled.reshape(-1,1))"
   ]
  },
  {
   "cell_type": "code",
   "execution_count": null,
   "id": "eab5e00b-480e-4e29-92ab-12632c5d6918",
   "metadata": {},
   "outputs": [],
   "source": []
  },
  {
   "cell_type": "code",
   "execution_count": null,
   "id": "675b5c40-3aca-44e7-9b90-2ab2e2187062",
   "metadata": {},
   "outputs": [],
   "source": []
  }
 ],
 "metadata": {
  "kernelspec": {
   "display_name": "Python 3 (ipykernel)",
   "language": "python",
   "name": "python3"
  },
  "language_info": {
   "codemirror_mode": {
    "name": "ipython",
    "version": 3
   },
   "file_extension": ".py",
   "mimetype": "text/x-python",
   "name": "python",
   "nbconvert_exporter": "python",
   "pygments_lexer": "ipython3",
   "version": "3.12.3"
  }
 },
 "nbformat": 4,
 "nbformat_minor": 5
}
